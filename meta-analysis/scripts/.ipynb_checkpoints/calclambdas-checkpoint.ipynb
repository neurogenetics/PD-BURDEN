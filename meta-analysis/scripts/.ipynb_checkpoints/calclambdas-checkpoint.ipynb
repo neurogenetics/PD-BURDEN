{
 "cells": [
  {
   "cell_type": "code",
   "execution_count": 3,
   "id": "d5a4fee9-2e10-42be-9bd3-7713a9638711",
   "metadata": {},
   "outputs": [],
   "source": [
    "import numpy as np\n",
    "import pandas as pd\n",
    "from scipy.stats import ncx2"
   ]
  },
  {
   "cell_type": "code",
   "execution_count": 4,
   "id": "06402c91-c17b-4ea8-a2dd-d076dbe994d4",
   "metadata": {},
   "outputs": [],
   "source": [
    "def calculate_inflation(pval_array, normalize=False, ncases=None, ncontrols=None):\n",
    "    \"\"\"Calculate lambda/genomic inflation.\n",
    "    Normalize option: when set to True normalizes it to 1000 cases and 1000 controls. Also called lambda1000.\n",
    "    ncases + ncontrols are necessary if calculating lambda1000\"\"\"\n",
    "    num = ncx2.ppf(1-pval_array, 1, nc=0)\n",
    "    denom = ncx2.ppf(0.5, 1, nc = 0)\n",
    "    inflation = np.median(num)/denom\n",
    "    if normalize:\n",
    "        inflation1000 = 1 + (inflation -1) * (1/ncases+ 1/ncontrols)/(1/1000 + 1/1000)\n",
    "        inflation = inflation1000\n",
    "    return(inflation)\n",
    "\n",
    "# example for regular lambda\n",
    "# EUR_dat = pd.read_csv('data/nallsEtAl2019_allSamples_allVariants.tab.zip', compression = 'zip', delim_whitespace=True)\n",
    "# calculate_inflation(EUR_dat['p'])\n",
    "\n",
    "# example for lambda1000\n",
    "# calculate_inflation(EUR_dat['p'], normalize=True, ncases=49053, ncontrols=1411006)"
   ]
  },
  {
   "cell_type": "code",
   "execution_count": 23,
   "id": "d8eb12ea-e8bc-4bb9-860a-7e1a9a0a6b28",
   "metadata": {},
   "outputs": [
    {
     "name": "stdout",
     "output_type": "stream",
     "text": [
      "Lamda: 0.937\n",
      "Lambda 1000: 0.997\n"
     ]
    }
   ],
   "source": [
    "path = \"/data/CARD/PD/AMP_NIH/no_relateds/meta_risk_analysis/geneburden_risk_wGenentech/RESULTS/GNE_AMP_NIH_UKB_ALL_PD_PHENO_META/minimum_numvar_1/\"\n",
    "df_path = path + \"meta_GNE_AMP_NIH_noRelateds_UKB_EXOM_ALL_PD_PHENOTYPES_CONTROL_2021_ALL_MISSENSE_SNPEFF_freqUpper0.001.combined_Ps.SkatO.tab\"\n",
    "df = pd.read_csv(df_path, sep=\"\\t\")\n",
    "df.dropna(inplace=True)\n",
    "\n",
    "lambda_val = calculate_inflation(df['META_PVAL'])\n",
    "lambda1000_val = calculate_inflation(df['META_PVAL'], normalize=True, ncases=13882, ncontrols=51661)\n",
    "\n",
    "print(f'Lamda: {lambda_val:.3f}')\n",
    "print(f'Lambda 1000: {lambda1000_val:.3f}')"
   ]
  },
  {
   "cell_type": "markdown",
   "id": "05704a06-f0f5-4294-8c86-9055ce1727d4",
   "metadata": {},
   "source": [
    "## SCRATCH"
   ]
  },
  {
   "cell_type": "code",
   "execution_count": null,
   "id": "e39d4695-14df-4dcf-9587-83fb8081e3c2",
   "metadata": {},
   "outputs": [],
   "source": [
    "#!/bin/env python\n",
    "\n",
    "# Meta-analyses script for burdens - calculate lambdas\n",
    "    # Jan 2022\n",
    "    # Start script like this:\n",
    "        # python calclambdas_meta.py \\\n",
    "        #             --test [SkatO, CMCWald] \\\n",
    "        #             --numvar [minimum number of variants per gene you want to keep] \\\n",
    "        #             --group [what groups are being meta-analyzed? String - for information purposes only] \\\n",
    "        #             --input [input .tab file] \\\n",
    "        #             --ncases [number of cases (int)] \\\n",
    "        #             --ncontrols [number of controls (int)] \\\n",
    "        #             --variant_group [variant group as defined by ANNOVAR or SNPEFF - for information purposes only] \\\n",
    "        #             --maf [MAF defined during RVtests - for information purposes only] \\\n",
    "        #             -o [output directory and file name desired]\n",
    "\n",
    "# Import the necessary packages\n",
    "import numpy as np\n",
    "import pandas as pd\n",
    "import math\n",
    "import sys\n",
    "import joblib\n",
    "import subprocess\n",
    "import statsmodels.api as sm\n",
    "from scipy import stats\n",
    "from functools import reduce\n",
    "import argparse\n",
    "import os\n",
    "from scipy.stats import ncx2\n",
    "\n",
    "# Initialize parser and add arguments\n",
    "parser = argparse.ArgumentParser()\n",
    "parser.add_argument(\"--input\", help=\"Input file name (with suffix) for meta-analysis .tab file\")\n",
    "\n",
    "parser.add_argument(\"--group\", help=\"Input string with what groups are being analyzed\")\n",
    "parser.add_argument(\"--variant_group\", help=\"Input string with what variant group was looked at\")\n",
    "parser.add_argument(\"--maf\", help=\"Input string with what MAF was looked at\")\n",
    "parser.add_argument(\"--test\", choices=[\"SkatO\", \"CMCWald\"], help=\"What test was run?\")\n",
    "parser.add_argument(\"--numvar\", metavar='N', type=int, help=\"Keep genes with variants equal to or greater than this number\")\n",
    "\n",
    "parser.add_argument(\"--ncases\", type=int, help=\"Input number of cases\")\n",
    "parser.add_argument(\"--ncontrols\", type=int, help=\"Input number of controls\")\n",
    "parser.add_argument(\"--output\", \"-o\", help=\"Desired output name for files\")\n",
    "args = parser.parse_args()\n",
    "\n",
    "# Read in your file\n",
    "print(\"Reading in your dataset...\")\n",
    "input_df = pd.read_csv(args.input, sep=\"\\t\")\n",
    "df = input_df[['META_PVAL']].copy()\n",
    "df.dropna(inplace=True)\n",
    "\n",
    "# Make variables\n",
    "test = args.test \n",
    "\n",
    "# Make lambdas function\n",
    "def calculate_inflation(pval_array, normalize=False, ncases=None, ncontrols=None):\n",
    "    \"\"\"Calculate lambda/genomic inflation.\n",
    "    Normalize option: when set to True normalizes it to 1000 cases and 1000 controls. Also called lambda1000.\n",
    "    ncases + ncontrols are necessary if calculating lambda1000\"\"\"\n",
    "    num = ncx2.ppf(1-pval_array, 1, nc=0)\n",
    "    denom = ncx2.ppf(0.5, 1, nc = 0)\n",
    "    inflation = np.median(num)/denom\n",
    "    if normalize:\n",
    "        inflation1000 = 1 + (inflation -1) * (1/ncases+ 1/ncontrols)/(1/1000 + 1/1000)\n",
    "        inflation = inflation1000\n",
    "    return(inflation)\n",
    "\n",
    "# Calculate values \n",
    "lambda_val = calculate_inflation(df['META_PVAL'])\n",
    "lambda1000_val = calculate_inflation(df['META_PVAL'], normalize=True, ncases=args.ncases, ncontrols=args.ncontrols)\n",
    "\n",
    "#print(f'Lamda: {lambda_val:.3f}')\n",
    "#print(f'Lambda 1000: {lambda1000_val:.3f}')\n",
    "\n",
    "results = []\n",
    "results.append([args.group, args.variant_group, args.maf, args.test, args.numvar, lambda_val, lambda1000_val])\n",
    "\n",
    "output = pd.DataFrame(results, columns=['META_COHORT', 'VARIANT_GROUP', 'MAF', 'TEST', 'MIN_NUMVAR', 'LAMBDA', 'LAMBDA1000'])\n",
    "\n",
    "# Now save out the file\n",
    "print(\"Saving out file...\")\n",
    "output_file = args.output + \".lambdas.\" + args.test + \".tab\"\n",
    "output.to_csv(output_file, sep=\"\\t\", index=False)\n",
    "\n",
    "print(f\"File has been saved as {output_file}\")"
   ]
  }
 ],
 "metadata": {
  "kernelspec": {
   "display_name": "python/3.7",
   "language": "python",
   "name": "py3.7"
  },
  "language_info": {
   "codemirror_mode": {
    "name": "ipython",
    "version": 3
   },
   "file_extension": ".py",
   "mimetype": "text/x-python",
   "name": "python",
   "nbconvert_exporter": "python",
   "pygments_lexer": "ipython3",
   "version": "3.7.12"
  }
 },
 "nbformat": 4,
 "nbformat_minor": 5
}
