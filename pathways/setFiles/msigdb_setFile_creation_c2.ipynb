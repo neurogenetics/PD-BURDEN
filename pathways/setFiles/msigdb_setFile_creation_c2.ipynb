{
 "cells": [
  {
   "cell_type": "markdown",
   "id": "ee1e7d83-c5e8-4a46-88fa-7c0881c8c7c0",
   "metadata": {},
   "source": [
    "# Generating setList for Pathway Analysis\n",
    "- Using the MSigDB C2 Canonical Pathways\n",
    "- Downloaded Oct 5 2021 (v7.4)\n",
    "- For PD Burdens project"
   ]
  },
  {
   "cell_type": "markdown",
   "id": "336927f8-1d2b-4a76-a850-0a372c26c498",
   "metadata": {},
   "source": [
    "## Install the necessary packages"
   ]
  },
  {
   "cell_type": "code",
   "execution_count": 1,
   "id": "baf7ceea-ad6c-4391-a5f4-58a9b274899f",
   "metadata": {},
   "outputs": [],
   "source": [
    "# pip install pyannotables\n",
    "from pyannotables import tables, homology_convert\n",
    "import pandas as pd\n",
    "import csv \n",
    "import numpy as np\n",
    "\n",
    "# Print out the tables available in the package \n",
    "tables = tables()\n",
    "#sorted(tables.keys())"
   ]
  },
  {
   "cell_type": "markdown",
   "id": "0fba45ca-178f-4463-836c-b60bdd46b69e",
   "metadata": {},
   "source": [
    "# Make list of genes incoming from the .gmt files"
   ]
  },
  {
   "cell_type": "code",
   "execution_count": 2,
   "id": "ad1b3600-7ef1-4e2d-a973-91e2945e31ed",
   "metadata": {},
   "outputs": [],
   "source": [
    "## Make list of all possible genes in incoming file\n",
    "! awk '{$1=$2=\"\"; print $0}' c2.cp.v7.4.symbols.gmt > list_of_genes.txt # Copy everything other than the first 2 columns \n",
    "! tr ' ' '\\n' < list_of_genes.txt > pre_file_list_of_genes.txt # Convert the spaces between each gene to new lines \n",
    "! sed '/^$/d' pre_file_list_of_genes.txt > file_list_of_genes.txt # Remove any empty rows from the file to prevent problems later \n",
    "\n",
    "# Clean up\n",
    "! rm list_of_genes.txt\n",
    "! rm pre_file_list_of_genes.txt\n",
    "\n",
    "## Read in file\n",
    "with open('file_list_of_genes.txt') as f:\n",
    "    all_genes = f.read().splitlines()"
   ]
  },
  {
   "cell_type": "markdown",
   "id": "41442f7e-b29d-4681-b946-dc39cb5d367a",
   "metadata": {},
   "source": [
    "# Creating the dictionaries of hg38 coordinates \n",
    "- [x] Annotables (Ensembl 100)\n",
    "- [x] refFlat hg38 \n",
    "- [x] Biomart hg38 (HGNC symbols)\n",
    "- [x] Manually adding in any missing genes"
   ]
  },
  {
   "cell_type": "markdown",
   "id": "8ea905f5-c705-4121-9f30-ecb90f6cc78c",
   "metadata": {},
   "source": [
    "## Read in the annotables"
   ]
  },
  {
   "cell_type": "code",
   "execution_count": 3,
   "id": "1be221f4-f3f1-4918-973d-2f116572b062",
   "metadata": {},
   "outputs": [
    {
     "data": {
      "text/html": [
       "<div>\n",
       "<style scoped>\n",
       "    .dataframe tbody tr th:only-of-type {\n",
       "        vertical-align: middle;\n",
       "    }\n",
       "\n",
       "    .dataframe tbody tr th {\n",
       "        vertical-align: top;\n",
       "    }\n",
       "\n",
       "    .dataframe thead th {\n",
       "        text-align: right;\n",
       "    }\n",
       "</style>\n",
       "<table border=\"1\" class=\"dataframe\">\n",
       "  <thead>\n",
       "    <tr style=\"text-align: right;\">\n",
       "      <th></th>\n",
       "      <th>gene_name</th>\n",
       "      <th>Chromosome</th>\n",
       "      <th>Start</th>\n",
       "      <th>End</th>\n",
       "      <th>Coordinates</th>\n",
       "    </tr>\n",
       "  </thead>\n",
       "  <tbody>\n",
       "    <tr>\n",
       "      <th>0</th>\n",
       "      <td>TSPAN6</td>\n",
       "      <td>X</td>\n",
       "      <td>100627107</td>\n",
       "      <td>100639991</td>\n",
       "      <td>X:100627107-100639991</td>\n",
       "    </tr>\n",
       "    <tr>\n",
       "      <th>3</th>\n",
       "      <td>TNMD</td>\n",
       "      <td>X</td>\n",
       "      <td>100584935</td>\n",
       "      <td>100599885</td>\n",
       "      <td>X:100584935-100599885</td>\n",
       "    </tr>\n",
       "    <tr>\n",
       "      <th>4</th>\n",
       "      <td>DPM1</td>\n",
       "      <td>20</td>\n",
       "      <td>50934866</td>\n",
       "      <td>50958555</td>\n",
       "      <td>20:50934866-50958555</td>\n",
       "    </tr>\n",
       "    <tr>\n",
       "      <th>8</th>\n",
       "      <td>SCYL3</td>\n",
       "      <td>1</td>\n",
       "      <td>169849630</td>\n",
       "      <td>169894267</td>\n",
       "      <td>1:169849630-169894267</td>\n",
       "    </tr>\n",
       "    <tr>\n",
       "      <th>10</th>\n",
       "      <td>C1orf112</td>\n",
       "      <td>1</td>\n",
       "      <td>169662006</td>\n",
       "      <td>169854080</td>\n",
       "      <td>1:169662006-169854080</td>\n",
       "    </tr>\n",
       "  </tbody>\n",
       "</table>\n",
       "</div>"
      ],
      "text/plain": [
       "   gene_name Chromosome      Start        End            Coordinates\n",
       "0     TSPAN6          X  100627107  100639991  X:100627107-100639991\n",
       "3       TNMD          X  100584935  100599885  X:100584935-100599885\n",
       "4       DPM1         20   50934866   50958555   20:50934866-50958555\n",
       "8      SCYL3          1  169849630  169894267  1:169849630-169894267\n",
       "10  C1orf112          1  169662006  169854080  1:169662006-169854080"
      ]
     },
     "execution_count": 3,
     "metadata": {},
     "output_type": "execute_result"
    }
   ],
   "source": [
    "# Grab the hg38 human build most recent Ensembl info \n",
    "hg38_table = tables['homo_sapiens-GRCh38-ensembl100'].copy()\n",
    "\n",
    "# Abbreviate to keep the columns we need + reset index to prevent merging errors \n",
    "hg38_table_annotables_abbrev = hg38_table[['gene_name', 'Chromosome', 'Start', 'End']].copy().reset_index(drop=True)\n",
    "\n",
    "# Make sure to only keep chr1-22, X, and Y and none of the bullshit prefixes that have underscores in them\n",
    "hg38_table_annotables_abbrev = hg38_table_annotables_abbrev.loc[~hg38_table_annotables_abbrev['Chromosome'].str.contains(r'_')]  \n",
    "\n",
    "# Make one column of the coordinates in the format we will need for the setFile\n",
    "hg38_table_annotables_abbrev['Coordinates'] = hg38_table_annotables_abbrev['Chromosome'].astype(str) + \":\" + hg38_table_annotables_abbrev['Start'].astype(str) + \"-\" + hg38_table_annotables_abbrev['End'].astype(str)\n",
    "\n",
    "# Keep the first instance of the gene symbol \n",
    "hg38_table_annotables_abbrev.drop_duplicates(subset=['gene_name'], keep='first', inplace=True)\n",
    "\n",
    "hg38_table_annotables_abbrev.head()"
   ]
  },
  {
   "cell_type": "code",
   "execution_count": 4,
   "id": "1cc4d2d5-4812-446d-bfeb-4a92bc8e46e1",
   "metadata": {},
   "outputs": [
    {
     "data": {
      "text/plain": [
       "60650"
      ]
     },
     "execution_count": 4,
     "metadata": {},
     "output_type": "execute_result"
    }
   ],
   "source": [
    "# Generate a dictionary with the keys being the gene symbol and the coordinates being the values \n",
    "annotables_dict = dict(zip(hg38_table_annotables_abbrev.gene_name, hg38_table_annotables_abbrev.Coordinates))\n",
    "len(annotables_dict)"
   ]
  },
  {
   "cell_type": "markdown",
   "id": "05866d46-662f-43a1-9155-93cb7cec6a5c",
   "metadata": {},
   "source": [
    "### Compare annotables dictionary to the genes incoming"
   ]
  },
  {
   "cell_type": "code",
   "execution_count": 5,
   "id": "d7e115d4-a4dc-4c26-9f81-591f5daf68ae",
   "metadata": {},
   "outputs": [
    {
     "name": "stdout",
     "output_type": "stream",
     "text": [
      "['KIR2DS3', 'UQCR10P1', 'CEP20', 'BPNT2', 'KIR2DL5A', 'POLR1H', 'DNAAF6', 'IRAG2', 'CIBAR1', 'SKP1P2', 'OR8U9', 'OR8U8', 'DYNLT2', 'OR8U3', 'IHO1', 'KIR2DL2', 'SSPOP', 'POLR1G', 'PDCD6-AHRR', 'HLA-DRB4', 'KIR2DS5', 'KATNIP', 'TAS2R43', 'POLR1F', 'LILRA3', 'CEP43', 'GARRE1', 'ZZZ3', 'CCL3L3', 'MIR124-1HG', 'DYNLT2B', 'DYNC2I2', 'C4B_2', 'DYNC2I1', 'KIR2DS2', 'GFUS', 'VDAC2P5', 'IRAG1', 'KIR2DS1', 'GSTT1', 'KIR3DS1', 'HLA-DRB3']\n"
     ]
    },
    {
     "data": {
      "text/plain": [
       "42"
      ]
     },
     "execution_count": 5,
     "metadata": {},
     "output_type": "execute_result"
    }
   ],
   "source": [
    "## Compare with dictionary and see what genes are missing\n",
    "missing_genes = [] # Initialize empty list \n",
    "for gene in all_genes:\n",
    "    if gene not in annotables_dict:\n",
    "        missing_genes.append(gene)\n",
    "\n",
    "unique_missing_genes = list(set(missing_genes)) # Make unique list of genes missing \n",
    "print(unique_missing_genes)\n",
    "len(unique_missing_genes)\n",
    "    # Looks like there are 42 missing genes after using annotables\n",
    "    # Let's supplement this with other databases"
   ]
  },
  {
   "cell_type": "markdown",
   "id": "9e33a55d-8273-4d22-87be-279b313535f5",
   "metadata": {},
   "source": [
    "## Read in the Biomart file\n",
    "- Downloaded Oct 7th \n",
    "- hg38 coordinates \n",
    "- HGNC symbols"
   ]
  },
  {
   "cell_type": "code",
   "execution_count": 6,
   "id": "fa066f71-c583-4ead-9048-738a4810575a",
   "metadata": {},
   "outputs": [],
   "source": [
    "## Read in the biomart file \n",
    "biomart = pd.read_csv(\"mart_export.txt\", sep=\"\\t\")\n",
    "biomart.columns = ['Start','End','Chromosome','gene_name','entrezID'] # Force column names \n",
    "\n",
    "# Make sure to only keep chr1-22, X, and Y and none of the bullshit prefixes that have underscores in them\n",
    "biomart = biomart.loc[~biomart['Chromosome'].str.contains(r'_')]  \n",
    "\n",
    "# Make coordinates \n",
    "biomart['Coordinates'] = biomart['Chromosome'].astype(str) + \":\" + biomart['Start'].astype(str) + \"-\" + biomart['End'].astype(str)\n",
    "\n",
    "# Keep the first instance of the gene symbol \n",
    "biomart.drop_duplicates(subset=['gene_name'], keep='first', inplace=True)\n",
    "\n",
    "# Make a dictionary of the biomart values \n",
    "biomart_dict = dict(zip(biomart.gene_name, biomart.Coordinates))"
   ]
  },
  {
   "cell_type": "code",
   "execution_count": 7,
   "id": "a6c3da41-e8ea-4ba0-9b44-22e1328f8d88",
   "metadata": {},
   "outputs": [],
   "source": [
    "# Merge 2 dictionaries, but prioritize the annotables one\n",
    "# declaring priority order\n",
    "prioritize_dictionaries = {1 : annotables_dict, 2: biomart_dict}\n",
    "\n",
    "# Time to merge\n",
    "annotables_biomart_dict = prioritize_dictionaries[2].copy()\n",
    "for key, val in prioritize_dictionaries[1].items():\n",
    "    annotables_biomart_dict[key] = val"
   ]
  },
  {
   "cell_type": "code",
   "execution_count": 8,
   "id": "8390420c-abc4-409d-82d4-01087afab58f",
   "metadata": {},
   "outputs": [
    {
     "data": {
      "text/plain": [
       "{'GBA3': '4:22692913-22819575',\n",
       " 'GBA2': '9:35736865-35749228',\n",
       " 'GBAP1': '1:155213820-155227422',\n",
       " 'GBA': '1:155234451-155244699'}"
      ]
     },
     "execution_count": 8,
     "metadata": {},
     "output_type": "execute_result"
    }
   ],
   "source": [
    "## Sanity check - make sure no weird bullshit\n",
    "# Pull out the coordinates for GBA \n",
    "search_key = 'GBA'\n",
    "dict(filter(lambda item: search_key in str(item[0]), annotables_biomart_dict.items()))\n",
    "\n",
    "    # Looks good!"
   ]
  },
  {
   "cell_type": "markdown",
   "id": "f10a71db-b57f-405a-926e-c7790fdfb8e0",
   "metadata": {},
   "source": [
    "### Compare Biomart dictionary to the genes incoming"
   ]
  },
  {
   "cell_type": "code",
   "execution_count": 9,
   "id": "6ac2106a-bbee-42a3-8b7e-b274d84d73f1",
   "metadata": {},
   "outputs": [
    {
     "name": "stdout",
     "output_type": "stream",
     "text": [
      "['KIR2DS5', 'KIR2DS3', 'OR8U8', 'KIR2DL2', 'OR8U9', 'C4B_2', 'KIR2DL5A', 'KIR2DS2', 'LILRA3', 'KIR2DS1', 'HLA-DRB4', 'GSTT1', 'KIR3DS1', 'HLA-DRB3']\n"
     ]
    },
    {
     "data": {
      "text/plain": [
       "14"
      ]
     },
     "execution_count": 9,
     "metadata": {},
     "output_type": "execute_result"
    }
   ],
   "source": [
    "## Compare with dictionary and see what genes are missing\n",
    "missing_genes = [] # Initialize empty list \n",
    "for gene in all_genes:\n",
    "    if gene not in annotables_biomart_dict:\n",
    "        missing_genes.append(gene)\n",
    "\n",
    "unique_missing_genes = list(set(missing_genes)) # Make unique list of genes missing \n",
    "print(unique_missing_genes)\n",
    "len(unique_missing_genes)\n",
    "    # Still 14 missing genes, let's add refFlat next"
   ]
  },
  {
   "cell_type": "markdown",
   "id": "6ee4deb9-87a8-4d05-a025-7f73e5f9c22b",
   "metadata": {},
   "source": [
    "## Read in the refFlat file\n",
    "- From UCSC \n",
    "- hg38 coordinates"
   ]
  },
  {
   "cell_type": "code",
   "execution_count": 10,
   "id": "e6a86c4f-d39e-4705-bc72-161188411090",
   "metadata": {},
   "outputs": [
    {
     "data": {
      "text/html": [
       "<div>\n",
       "<style scoped>\n",
       "    .dataframe tbody tr th:only-of-type {\n",
       "        vertical-align: middle;\n",
       "    }\n",
       "\n",
       "    .dataframe tbody tr th {\n",
       "        vertical-align: top;\n",
       "    }\n",
       "\n",
       "    .dataframe thead th {\n",
       "        text-align: right;\n",
       "    }\n",
       "</style>\n",
       "<table border=\"1\" class=\"dataframe\">\n",
       "  <thead>\n",
       "    <tr style=\"text-align: right;\">\n",
       "      <th></th>\n",
       "      <th>gene_name</th>\n",
       "      <th>Chromosome</th>\n",
       "      <th>Start</th>\n",
       "      <th>End</th>\n",
       "      <th>Coordinates</th>\n",
       "    </tr>\n",
       "  </thead>\n",
       "  <tbody>\n",
       "    <tr>\n",
       "      <th>0</th>\n",
       "      <td>A1BG</td>\n",
       "      <td>19</td>\n",
       "      <td>58345182</td>\n",
       "      <td>58353492</td>\n",
       "      <td>19:58345182-58353492</td>\n",
       "    </tr>\n",
       "    <tr>\n",
       "      <th>1</th>\n",
       "      <td>A1BG-AS1</td>\n",
       "      <td>19</td>\n",
       "      <td>58351969</td>\n",
       "      <td>58355183</td>\n",
       "      <td>19:58351969-58355183</td>\n",
       "    </tr>\n",
       "    <tr>\n",
       "      <th>2</th>\n",
       "      <td>A1CF</td>\n",
       "      <td>10</td>\n",
       "      <td>50799408</td>\n",
       "      <td>50885675</td>\n",
       "      <td>10:50799408-50885675</td>\n",
       "    </tr>\n",
       "    <tr>\n",
       "      <th>3</th>\n",
       "      <td>A2M</td>\n",
       "      <td>12</td>\n",
       "      <td>9067707</td>\n",
       "      <td>9115919</td>\n",
       "      <td>12:9067707-9115919</td>\n",
       "    </tr>\n",
       "    <tr>\n",
       "      <th>4</th>\n",
       "      <td>A2M-AS1</td>\n",
       "      <td>12</td>\n",
       "      <td>9065176</td>\n",
       "      <td>9068055</td>\n",
       "      <td>12:9065176-9068055</td>\n",
       "    </tr>\n",
       "  </tbody>\n",
       "</table>\n",
       "</div>"
      ],
      "text/plain": [
       "  gene_name Chromosome     Start       End           Coordinates\n",
       "0      A1BG         19  58345182  58353492  19:58345182-58353492\n",
       "1  A1BG-AS1         19  58351969  58355183  19:58351969-58355183\n",
       "2      A1CF         10  50799408  50885675  10:50799408-50885675\n",
       "3       A2M         12   9067707   9115919    12:9067707-9115919\n",
       "4   A2M-AS1         12   9065176   9068055    12:9065176-9068055"
      ]
     },
     "execution_count": 10,
     "metadata": {},
     "output_type": "execute_result"
    }
   ],
   "source": [
    "## Read in refFlat file \n",
    "refFlat = pd.read_csv(\"refFlat_hg38_unique_geneChrStartStop.txt\", sep=\"\\t\", header=None)\n",
    "refFlat.columns = ['gene_name', 'Chromosome','Start','End'] # Force column names \n",
    "refFlat['Chromosome'] = refFlat['Chromosome'].str.replace(\"chr\", \"\") # Remove chr prefix \n",
    "\n",
    "# Make sure to only keep chr1-22, X, and Y and none of the bullshit prefixes that have underscores in them\n",
    "refFlat = refFlat.loc[~refFlat['Chromosome'].str.contains(r'_')]  \n",
    "\n",
    "# Make coordinates \n",
    "refFlat['Coordinates'] = refFlat['Chromosome'].astype(str) + \":\" + refFlat['Start'].astype(str) + \"-\" + refFlat['End'].astype(str)\n",
    "\n",
    "# Keep the first instance of the gene symbol \n",
    "refFlat.drop_duplicates(subset=['gene_name'], keep='first', inplace=True)\n",
    "\n",
    "# Make a dictionary of the biomart values \n",
    "refFlat_dict = dict(zip(refFlat.gene_name, refFlat.Coordinates))\n",
    "\n",
    "refFlat.head()"
   ]
  },
  {
   "cell_type": "code",
   "execution_count": 11,
   "id": "223fea81-aa7e-41f6-abeb-5fbb4fc16ba7",
   "metadata": {},
   "outputs": [],
   "source": [
    "# Merge 2 dictionaries, but prioritize the annotables one\n",
    "# declaring priority order\n",
    "prioritize_dictionaries = {1 : annotables_biomart_dict, 2: refFlat_dict}\n",
    "\n",
    "# Time to merge\n",
    "annotables_biomart_refFlat_dict = prioritize_dictionaries[2].copy()\n",
    "for key, val in prioritize_dictionaries[1].items():\n",
    "    annotables_biomart_refFlat_dict[key] = val"
   ]
  },
  {
   "cell_type": "markdown",
   "id": "1e072cb0-968c-4d8e-a0a3-90153be059f7",
   "metadata": {},
   "source": [
    "### Compare refFlat dictionary to the genes incoming"
   ]
  },
  {
   "cell_type": "code",
   "execution_count": 12,
   "id": "f8a0f6e0-9f0a-4a05-9705-355f9dd9202f",
   "metadata": {},
   "outputs": [
    {
     "name": "stdout",
     "output_type": "stream",
     "text": [
      "['KIR2DS5', 'KIR2DS3', 'KIR2DL2', 'OR8U9', 'KIR2DL5A', 'KIR2DS2', 'LILRA3', 'KIR2DS1', 'HLA-DRB4', 'GSTT1', 'KIR3DS1', 'HLA-DRB3']\n"
     ]
    },
    {
     "data": {
      "text/plain": [
       "12"
      ]
     },
     "execution_count": 12,
     "metadata": {},
     "output_type": "execute_result"
    }
   ],
   "source": [
    "## Compare with dictionary and see what genes are missing\n",
    "missing_genes = [] # Initialize empty list \n",
    "for gene in all_genes:\n",
    "    if gene not in annotables_biomart_refFlat_dict:\n",
    "        missing_genes.append(gene)\n",
    "\n",
    "unique_missing_genes = list(set(missing_genes)) # Make unique list of genes missing \n",
    "print(unique_missing_genes)\n",
    "len(unique_missing_genes)\n",
    "    # Still 12 missing genes..."
   ]
  },
  {
   "cell_type": "markdown",
   "id": "bdcf8b56-ea7a-4356-a673-a6751628019e",
   "metadata": {},
   "source": [
    "## Adding in missing genes "
   ]
  },
  {
   "cell_type": "code",
   "execution_count": 13,
   "id": "32322f73-b20e-4bcf-998c-8358cb28cf55",
   "metadata": {},
   "outputs": [],
   "source": [
    "# No other way around this, adding the 12 via NCBI \n",
    "# Most of these are immuno- or olfactory genes, so they mutate and seem to map multiple places and have multiple complements - probably why we had issues with them\n",
    "\n",
    "    # LILRA3 (19:270964-275379)\n",
    "    # KIR2DS3 (19:150177-164532)\n",
    "    # KIR3DS1 (19:58332-72919)\n",
    "    # HLA-DRB4 (6:3840427-3855395)\n",
    "    # KIR2DL5A (19:46835-5629)\n",
    "    # KIR2DS1 (19:13877-27891)\n",
    "    # KIR2DL2 (19:106541-121079)\n",
    "    # KIR2DS5 (19:29858-44878)\n",
    "    # KIR2DS2 (19:122955-137265)\n",
    "    # OR8U9 (11:193979-194908)\n",
    "    # GSTT1 (22:270308-278486) \n",
    "    # HLA-DRB3 (6:3934021-3947089)\n",
    "    \n",
    "# Reading it in as a tab-delimited .txt file \n",
    "extra_genes = pd.read_csv(\"adding_missing.txt\", header=None, sep=\"\\t\")\n",
    "extra_genes.columns = ['gene_name', 'Coordinates']\n",
    "\n",
    "# Make a dictionary of the missing values \n",
    "extra_genes_dict = dict(zip(extra_genes.gene_name, extra_genes.Coordinates))\n",
    "\n",
    "# Merge 2 dictionaries, but prioritize the annotables one\n",
    "# declaring priority order\n",
    "prioritize_dictionaries = {1 : annotables_biomart_refFlat_dict, 2: extra_genes_dict}\n",
    "\n",
    "# Time to merge\n",
    "annotables_biomart_refFlat_extra_dict = prioritize_dictionaries[2].copy()\n",
    "for key, val in prioritize_dictionaries[1].items():\n",
    "    annotables_biomart_refFlat_extra_dict[key] = val"
   ]
  },
  {
   "cell_type": "code",
   "execution_count": 14,
   "id": "7acf5a66-8898-4c75-9149-f6a8fcf57ad4",
   "metadata": {},
   "outputs": [
    {
     "data": {
      "text/plain": [
       "{'LRRK2': '12:40196743-40369285', 'LRRK2-DT': '12:40186008-40224915'}"
      ]
     },
     "execution_count": 14,
     "metadata": {},
     "output_type": "execute_result"
    }
   ],
   "source": [
    "## Sanity check - make sure no weird bullshit\n",
    "# Pull out the coordinates for GBA \n",
    "search_key = 'LRRK2'\n",
    "dict(filter(lambda item: search_key in str(item[0]), annotables_biomart_refFlat_dict.items()))"
   ]
  },
  {
   "cell_type": "markdown",
   "id": "433a8e6e-6281-46f4-9ac0-33f9beb74b46",
   "metadata": {},
   "source": [
    "### Compare full dictionary to the genes incoming"
   ]
  },
  {
   "cell_type": "code",
   "execution_count": 15,
   "id": "dea2b04b-1651-48cf-b8ca-2358885694ec",
   "metadata": {},
   "outputs": [
    {
     "name": "stdout",
     "output_type": "stream",
     "text": [
      "[]\n"
     ]
    },
    {
     "data": {
      "text/plain": [
       "0"
      ]
     },
     "execution_count": 15,
     "metadata": {},
     "output_type": "execute_result"
    }
   ],
   "source": [
    "## Compare with dictionary and see what genes are missing\n",
    "missing_genes = [] # Initialize empty list \n",
    "for gene in all_genes:\n",
    "    if gene not in annotables_biomart_refFlat_extra_dict:\n",
    "        missing_genes.append(gene)\n",
    "\n",
    "unique_missing_genes = list(set(missing_genes)) # Make unique list of genes missing \n",
    "print(unique_missing_genes)\n",
    "len(unique_missing_genes)\n",
    "    # No more missing genes "
   ]
  },
  {
   "cell_type": "markdown",
   "id": "39a1c8b3-c183-43f6-9b42-f8d4a9ca6e49",
   "metadata": {},
   "source": [
    "# Replace symbols with coordinates"
   ]
  },
  {
   "cell_type": "code",
   "execution_count": 16,
   "id": "a34628ab-e03a-4fc4-8151-a22900692821",
   "metadata": {},
   "outputs": [],
   "source": [
    "## Make a function that maps the dictionary values \n",
    "def replace(list, dictionary):\n",
    "    return [dictionary.get(item, item) for item in list]"
   ]
  },
  {
   "cell_type": "code",
   "execution_count": 17,
   "id": "64f9ed42-4825-4dc9-aedd-78fca29fae7c",
   "metadata": {},
   "outputs": [],
   "source": [
    "# Make an array of the weird chromsome prefixes to remove (if there are any)\n",
    "prefixes = ('CHR_')\n",
    "\n",
    "# Initialize an empty list \n",
    "list_of_pathways = []\n",
    "list_of_error_pathways = [] \n",
    "\n",
    "# Read in the MSigDB .gmt file \n",
    "# Loop through the c2 file \n",
    "with open('c2.cp.v7.4.symbols.gmt', 'r') as f:\n",
    "    reader = csv.reader(f, dialect='excel', delimiter='\\t')\n",
    "    for row in reader:\n",
    "        del row[1] # Remove the 2nd element, the ones with the website link \n",
    "        number_of_genes = len(row)\n",
    "        row2 = replace(row, annotables_biomart_refFlat_extra_dict) # Map the coordinates to the gene symbols\n",
    "        row3 = [element for element in row2 if not element.startswith(prefixes)] # Remove any of those weird prefixes \n",
    "        number_of_found_genes = len(row2)\n",
    "        if number_of_genes != number_of_found_genes:\n",
    "            list_of_error_pathways.append(row3)\n",
    "        #print(row3)\n",
    "        list_of_pathways.append(row3) # Add to the list of lists "
   ]
  },
  {
   "cell_type": "code",
   "execution_count": 18,
   "id": "79c8df70-3ce0-4cc8-9f57-bfd403ed1344",
   "metadata": {},
   "outputs": [
    {
     "data": {
      "text/plain": [
       "0"
      ]
     },
     "execution_count": 18,
     "metadata": {},
     "output_type": "execute_result"
    }
   ],
   "source": [
    "## Sanity check, see if any of the now converted pathways have more or less genes than the input file \n",
    "len(list_of_error_pathways)"
   ]
  },
  {
   "cell_type": "markdown",
   "id": "b48182d5-fb23-445d-8e86-03acb8e67132",
   "metadata": {},
   "source": [
    "# Save out the files"
   ]
  },
  {
   "cell_type": "markdown",
   "id": "b7be1abd-ffe6-4a40-ac15-4391c28fea2c",
   "metadata": {},
   "source": [
    "## Save out new setFile"
   ]
  },
  {
   "cell_type": "code",
   "execution_count": 19,
   "id": "cf74f04d-48d2-41c5-ac8e-130c8c74b654",
   "metadata": {},
   "outputs": [],
   "source": [
    "# Save out the file \n",
    "with open('c2.cp.v7.4.symbols.setFile.Oct52021.txt', 'w', newline='') as f:\n",
    "    writer = csv.writer(f)\n",
    "    writer.writerows(list_of_pathways)"
   ]
  },
  {
   "cell_type": "code",
   "execution_count": 20,
   "id": "991525e0-adfc-46bb-9d94-36626ce46d90",
   "metadata": {},
   "outputs": [
    {
     "name": "stdout",
     "output_type": "stream",
     "text": [
      "    2922 c2.cp.v7.4.symbols.setFile.Oct52021.final.txt\n"
     ]
    }
   ],
   "source": [
    "# No idea how to do this in Python but use bash to replace the FIRST comma with a tab and remove the temp file\n",
    "! sed 's/,/'$'\\t''/' c2.cp.v7.4.symbols.setFile.Oct52021.txt > c2.cp.v7.4.symbols.setFile.Oct52021.final.txt\n",
    "! rm c2.cp.v7.4.symbols.setFile.Oct52021.txt\n",
    "! wc -l c2.cp.v7.4.symbols.setFile.Oct52021.final.txt"
   ]
  },
  {
   "cell_type": "markdown",
   "id": "6fc93d98-b0a2-4254-901a-18bae9c1b186",
   "metadata": {},
   "source": [
    "## Save out coordinates file"
   ]
  },
  {
   "cell_type": "code",
   "execution_count": 21,
   "id": "54b8466e-3fe6-46fb-89a1-6c1602a3c17c",
   "metadata": {},
   "outputs": [],
   "source": [
    "# Save out these coordinates to limit the amount of work next time to make a dictionary...\n",
    "df = pd.DataFrame(list(annotables_biomart_refFlat_extra_dict.items()), columns=['gene_name', 'Coordinates'])\n",
    "df.to_csv(\"hg38_refFlat_annotables_BioMart_genes_coordinates_OCT2021.txt\", header=True, index=False, sep=\"\\t\")"
   ]
  },
  {
   "cell_type": "markdown",
   "id": "0249fb16-baf5-45f7-b77b-d14b6d4c31cf",
   "metadata": {},
   "source": [
    "# Sanity Checks\n",
    "- [x] Check to see if GBA is in pathways and showing up in setFile \n",
    "- [x] Check to see no weird prefixes (_alt, CHR_ etc.)\n",
    "- [x] Check to see if symbols are matching up to expected coordinates \n",
    "- [x] Double check that some genes might not be unique because there are aliases and will have matching coordinates"
   ]
  },
  {
   "cell_type": "code",
   "execution_count": 22,
   "id": "78b9ba06-fc06-4aea-8032-0874e686f0da",
   "metadata": {},
   "outputs": [
    {
     "name": "stdout",
     "output_type": "stream",
     "text": [
      "KEGG_OTHER_GLYCAN_DEGRADATION\thttp://www.gsea-msigdb.org/gsea/msigdb/cards/KEGG_OTHER_GLYCAN_DEGRADATION\tENGASE\tGLB1\tMANBA\tMAN2B1\tGBA\tNEU4\tNEU2\tNEU1\tFUCA1\tFUCA2\tAGA\tMAN2C1\tMAN2B2\tNEU3\tHEXB\tHEXA\n",
      "KEGG_SPHINGOLIPID_METABOLISM\thttp://www.gsea-msigdb.org/gsea/msigdb/cards/KEGG_SPHINGOLIPID_METABOLISM\tGAL3ST1\tSGPP2\tGLB1\tGALC\tSGMS2\tGBA\tSPHK2\tNEU2\tPLPP3\tNEU1\tACER2\tUGCG\tDEGS2\tARSA\tSPHK1\tSGPL1\tNEU3\tSMPD4\tSGMS1\tACER3\tCERK\tSMPD2\tENPP7\tDEGS1\tSGPP1\tNEU4\tGLA\tACER1\tPLPP1\tASAH1\tPLPP2\tSMPD1\tB4GALT6\tSPTLC2\tSPTLC1\tSMPD3\tKDSR\tUGT8\tASAH2\n",
      "KEGG_LYSOSOME\thttp://www.gsea-msigdb.org/gsea/msigdb/cards/KEGG_LYSOSOME\tPLA2G15\tAP3B2\tGGA1\tSLC11A1\tPPT1\tMFSD8\tCTSZ\tNAGPA\tIGF2R\tARSG\tATP6V0A1\tCTSW\tATP6V0B\tLGMN\tCTSS\tAP4S1\tLAMP2\tATP6AP1\tLAPTM5\tAP1S3\tCLTCL1\tAP4B1\tAP3B1\tLAMP3\tATP6V0A4\tCTSL\tABCB9\tAP1B1\tCTSK\tSLC11A2\tGNPTAB\tSMPD1\tCTSH\tAP1G1\tCTSG\tCTSE\tLAPTM4A\tGM2A\tLAMP1\tCTSO\tGGA2\tCTSV\tAP3M1\tCTSC\tGBA\tAP3D1\tCD164\tATP6V1H\tHGSNAT\tABCA2\tDNASE2B\tAGA\tAP3M2\tATP6V0D2\tARSA\tCTSD\tCTSB\tARSB\tTCIRG1\tGNS\tPPT2\tDNASE2\tSORT1\tASAH1\tAP4E1\tGALNS\tAP4M1\tPSAPL1\tIDUA\tIDS\tATP6V0C\tGALC\tGNPTG\tNEU1\tM6PR\tGUSB\tAP3S2\tGLA\tGGA3\tATP6V0A2\tFUCA1\tNPC2\tATP6V0D1\tENTPD4\tSGSH\tAP1M2\tCD68\tCD63\tGLB1\tCTSF\tMANBA\tMAN2B1\tPSAP\tCTNS\tLIPA\tAP1S2\tAP1M1\tLAPTM4B\tNAPSA\tHEXB\tAP3S1\tSUMF1\tMCOLN1\tAP1S1\tHEXA\tNPC1\tSLC17A5\tSCARB2\tHYAL1\tCLN5\tCTSA\tTPP1\tCLTA\tCLTB\tCLN3\tCLTC\tACP2\tGAA\tACP5\tNAGA\tNAGLU\n"
     ]
    }
   ],
   "source": [
    "! grep -w \"GBA\"  c2.cp.v7.4.symbols.gmt | head -3"
   ]
  },
  {
   "cell_type": "code",
   "execution_count": 23,
   "id": "cfa9e1ea-519f-4251-8399-a47a7ab3aa69",
   "metadata": {},
   "outputs": [
    {
     "name": "stdout",
     "output_type": "stream",
     "text": [
      "KEGG_OTHER_GLYCAN_DEGRADATION\t17:79074823-79088599,3:32996608-33097202,4:102630769-102760994,19:12646510-12666742,1:155234451-155244699,2:241808824-241817413,2:233032671-233035057,6:31857658-31862822,1:23845076-23868294,6:143494811-143511720,4:177430773-177442437,15:75355206-75368612,4:6575188-6623362,11:74988278-75018893,5:74640022-74722647,15:72340923-72376420\n"
     ]
    }
   ],
   "source": [
    "! grep -w 'KEGG_OTHER_GLYCAN_DEGRADATION' c2.cp.v7.4.symbols.setFile.Oct52021.final.txt"
   ]
  },
  {
   "cell_type": "code",
   "execution_count": 24,
   "id": "54e37d80-6d52-4dd7-961f-7bd5dc4e15e9",
   "metadata": {},
   "outputs": [
    {
     "name": "stdout",
     "output_type": "stream",
     "text": [
      "KEGG_OTHER_GLYCAN_DEGRADATION\t17:79074823-79088599,3:32996608-33097202,4:102630769-102760994,19:12646510-12666742,1:155234451-155244699,2:241808824-241817413,2:233032671-233035057,6:31857658-31862822,1:23845076-23868294,6:143494811-143511720,4:177430773-177442437,15:75355206-75368612,4:6575188-6623362,11:74988278-75018893,5:74640022-74722647,15:72340923-72376420\n",
      "KEGG_SPHINGOLIPID_METABOLISM\t22:30554634-30574665,2:222424542-222562621,3:32996608-33097202,14:87837819-87993665,4:107824562-107915047,1:155234451-155244699,19:48619290-48630717,2:233032671-233035057,1:56494760-56645301,6:31857658-31862822,9:19409008-19452505,9:111896813-111935369,14:100143956-100159645,22:50622753-50628173,17:76376583-76387860,10:70815947-70881184,11:74988278-75018893,2:130151391-130182750,10:50305585-50625163,11:76860866-77026797,22:46684409-46738252,6:109440723-109443919,17:79730942-79742219,1:224175755-224193441,14:63684215-63728065,2:241808824-241817413,X:101393272-101408012,19:6306141-6333612,5:55424853-55534969,8:18055991-18084998,19:281039-291403,11:6390439-6394998,18:31622246-31685836,14:77505996-77616773,9:92000086-92115413,16:68358326-68448508,18:63327725-63367228,4:114598769-114678225,10:50182777-50279720\n",
      "KEGG_LYSOSOME\t16:68245303-68261058,15:82659280-82709946,22:37608724-37633564,2:218382028-218396894,1:40071460-40097727,4:127917798-127966034,20:58995184-59007254,16:5024843-5034141,6:159969098-160113507,17:68259181-68422731,17:42458843-42522611,11:65879836-65883741,1:43974486-43978295,14:92703806-92748679,1:150730187-150765792,14:31025105-31130996,X:120426147-120469365,X:154428644-154436516,1:30732468-30757774,2:223751685-223838027,22:19179472-19291719,1:113894193-113905201,5:78002325-78294698,3:183122214-183163839,7:138706293-138799560,9:87726108-87731469,12:122920950-122981649,22:29327679-29423179,1:150796207-150808260,12:50979400-51028566,12:101745498-101830959,11:6390439-6394998,15:78921057-78949574,16:71728999-71809201,14:24573517-24576250,1:206009263-206023895,2:20032649-20051628,5:151212149-151270440,13:113297238-113323672,4:155924117-155953866,16:23463541-23521995,9:97029676-97039643,10:74120254-74151063,11:88293591-88337761,1:155234451-155244699,19:2100987-2164468,6:109366513-109382467,8:53715542-53843558,8:43140463-43202855,9:137007233-137028922,1:84398531-84415018,4:177430773-177442437,8:42152945-42171673,8:85987322-86154225,22:50622753-50628173,11:1752754-1764573,8:11842523-11869448,5:78777208-78986087,11:68039024-68050895,12:64713444-64759431,6:32153440-32163678,19:12875208-12881466,1:109309567-109397918,8:18055991-18084998,15:50908671-51005895,16:88813733-88856970,7:100101548-100110345,4:7430284-7434930,4:986996-1004564,X:149476987-149521096,16:2513951-2520218,14:87837819-87993665,16:1351930-1364113,6:31857658-31862822,12:8940360-8949761,7:65960683-65982215,15:89830598-89894638,X:101393272-101408012,17:75236598-75262363,12:123712352-123761755,1:23845076-23868294,14:74476191-74494177,16:67438013-67481181,8:23385782-23457695,17:80206715-80220923,19:10572670-10587315,17:7579490-7582111,12:55725322-55729707,3:32996608-33097202,11:66563463-66568841,4:102630769-102760994,19:12646510-12666742,10:71816297-71851325,17:3636458-3663103,10:89213568-89414557,X:15825805-15854931,19:16197577-16245907,8:97775056-97853013,19:50358476-50365830,5:74640022-74722647,5:115841591-115914081,3:3700813-4467273,19:7522623-7534009,7:101154455-101161596,15:72340923-72376420,18:23506183-23586506,6:73593378-73653992,4:76158736-76234536,3:50299889-50312381,13:76990659-77019143,20:45890143-45898820,11:6612767-6619448,9:36190855-36304781,5:176392454-176416569,16:28474110-28495575,17:59619688-59696956,11:47239301-47248906,17:80101555-80119881,19:11574659-11579008,22:42058333-42070842,17:42536240-42544449\n"
     ]
    }
   ],
   "source": [
    "# Check that GBA is where it is supposed to be \n",
    "! grep \"1:155234451-155244699\" c2.cp.v7.4.symbols.setFile.Oct52021.final.txt | head -3"
   ]
  },
  {
   "cell_type": "code",
   "execution_count": 25,
   "id": "959f1b4c-4e7c-4ec1-b696-438578d579dc",
   "metadata": {},
   "outputs": [],
   "source": [
    "! grep \"_alt\" c2.cp.v7.4.symbols.setFile.Oct52021.final.txt | head -3 # Nothing"
   ]
  },
  {
   "cell_type": "code",
   "execution_count": 27,
   "id": "7820aa39-2fd4-464c-8dfd-ed9a908f25ab",
   "metadata": {},
   "outputs": [],
   "source": [
    "! grep \"CHR_\" c2.cp.v7.4.symbols.setFile.Oct52021.final.txt | head -3 # Nothing"
   ]
  },
  {
   "cell_type": "code",
   "execution_count": 31,
   "id": "744037ab-cd55-46f6-9dfa-9779db888676",
   "metadata": {},
   "outputs": [
    {
     "data": {
      "text/plain": [
       "{'MANBA': '4:102630769-102760994', 'MANBAL': '20:37289637-37317260'}"
      ]
     },
     "execution_count": 31,
     "metadata": {},
     "output_type": "execute_result"
    }
   ],
   "source": [
    "## KEGG_OTHER_GLYCAN_DEGRADATION\n",
    "# ENGASE\n",
    "# GLB1\n",
    "# MANBA\n",
    "# MAN2B1\n",
    "# GBA\n",
    "# NEU4\n",
    "# NEU2\n",
    "# NEU1\n",
    "# FUCA1\n",
    "# FUCA2\n",
    "# AGA\n",
    "# MAN2C1\n",
    "# MAN2B2\n",
    "# NEU3\n",
    "# HEXB\n",
    "# HEXA\n",
    "\n",
    "## KEGG_OTHER_GLYCAN_DEGRADATION\n",
    "# 17:79074823-79088599\n",
    "# 3:32996608-33097202\n",
    "# 4:102630769-102760994\n",
    "# 19:12646510-12666742\n",
    "# 1:155234451-155244699\n",
    "# 2:241808824-241817413\n",
    "# 2:233032671-233035057\n",
    "# 1:23845076-23868294\n",
    "# 6:143494811-143511720\n",
    "# 4:177430773-177442437\n",
    "# 15:75355206-75368612\n",
    "# 4:6575188-6623362\n",
    "# 11:74988278-75018893\n",
    "# 5:74640022-74722647\n",
    "# 15:72340923-72376420\n",
    "\n",
    "search_key = 'MANBA'\n",
    "dict(filter(lambda item: search_key in str(item[0]), annotables_biomart_refFlat_dict.items()))\n",
    "\n",
    "# Spot checks look good, values as expected "
   ]
  },
  {
   "cell_type": "code",
   "execution_count": 28,
   "id": "c1570212-64a8-42bc-81ea-d1b7475779fd",
   "metadata": {},
   "outputs": [
    {
     "data": {
      "text/html": [
       "<div>\n",
       "<style scoped>\n",
       "    .dataframe tbody tr th:only-of-type {\n",
       "        vertical-align: middle;\n",
       "    }\n",
       "\n",
       "    .dataframe tbody tr th {\n",
       "        vertical-align: top;\n",
       "    }\n",
       "\n",
       "    .dataframe thead th {\n",
       "        text-align: right;\n",
       "    }\n",
       "</style>\n",
       "<table border=\"1\" class=\"dataframe\">\n",
       "  <thead>\n",
       "    <tr style=\"text-align: right;\">\n",
       "      <th></th>\n",
       "      <th>gene_name</th>\n",
       "      <th>Coordinates</th>\n",
       "    </tr>\n",
       "  </thead>\n",
       "  <tbody>\n",
       "    <tr>\n",
       "      <th>11958</th>\n",
       "      <td>LOC100130520</td>\n",
       "      <td>17:74560700-74567343</td>\n",
       "    </tr>\n",
       "    <tr>\n",
       "      <th>11986</th>\n",
       "      <td>LOC100132287</td>\n",
       "      <td>1:490755-495445</td>\n",
       "    </tr>\n",
       "    <tr>\n",
       "      <th>12027</th>\n",
       "      <td>LOC100287834</td>\n",
       "      <td>7:63349069-63351774</td>\n",
       "    </tr>\n",
       "    <tr>\n",
       "      <th>12731</th>\n",
       "      <td>LOC102724843</td>\n",
       "      <td>21:5553636-5592004</td>\n",
       "    </tr>\n",
       "    <tr>\n",
       "      <th>12736</th>\n",
       "      <td>LOC102724951</td>\n",
       "      <td>21:5553636-5592004</td>\n",
       "    </tr>\n",
       "    <tr>\n",
       "      <th>...</th>\n",
       "      <td>...</td>\n",
       "      <td>...</td>\n",
       "    </tr>\n",
       "    <tr>\n",
       "      <th>61404</th>\n",
       "      <td>AL158069.2</td>\n",
       "      <td>X:69672478-69672597</td>\n",
       "    </tr>\n",
       "    <tr>\n",
       "      <th>61525</th>\n",
       "      <td>AC104843.3</td>\n",
       "      <td>7:152592972-152593091</td>\n",
       "    </tr>\n",
       "    <tr>\n",
       "      <th>61561</th>\n",
       "      <td>AC011405.2</td>\n",
       "      <td>5:139012328-139012441</td>\n",
       "    </tr>\n",
       "    <tr>\n",
       "      <th>62872</th>\n",
       "      <td>AL589787.1</td>\n",
       "      <td>10:126425929-126460957</td>\n",
       "    </tr>\n",
       "    <tr>\n",
       "      <th>63267</th>\n",
       "      <td>AF305872.2</td>\n",
       "      <td>8:133054958-133057767</td>\n",
       "    </tr>\n",
       "  </tbody>\n",
       "</table>\n",
       "<p>272 rows × 2 columns</p>\n",
       "</div>"
      ],
      "text/plain": [
       "          gene_name             Coordinates\n",
       "11958  LOC100130520    17:74560700-74567343\n",
       "11986  LOC100132287         1:490755-495445\n",
       "12027  LOC100287834     7:63349069-63351774\n",
       "12731  LOC102724843      21:5553636-5592004\n",
       "12736  LOC102724951      21:5553636-5592004\n",
       "...             ...                     ...\n",
       "61404    AL158069.2     X:69672478-69672597\n",
       "61525    AC104843.3   7:152592972-152593091\n",
       "61561    AC011405.2   5:139012328-139012441\n",
       "62872    AL589787.1  10:126425929-126460957\n",
       "63267    AF305872.2   8:133054958-133057767\n",
       "\n",
       "[272 rows x 2 columns]"
      ]
     },
     "execution_count": 28,
     "metadata": {},
     "output_type": "execute_result"
    }
   ],
   "source": [
    "## Check for duplicate coordinates (symbols have multiple aliases sometimes...)\n",
    "df.loc[df.Coordinates.duplicated(), :]"
   ]
  },
  {
   "cell_type": "code",
   "execution_count": 29,
   "id": "db57f1b7-008e-4cf5-a2dc-0335793694dc",
   "metadata": {},
   "outputs": [
    {
     "data": {
      "text/html": [
       "<div>\n",
       "<style scoped>\n",
       "    .dataframe tbody tr th:only-of-type {\n",
       "        vertical-align: middle;\n",
       "    }\n",
       "\n",
       "    .dataframe tbody tr th {\n",
       "        vertical-align: top;\n",
       "    }\n",
       "\n",
       "    .dataframe thead th {\n",
       "        text-align: right;\n",
       "    }\n",
       "</style>\n",
       "<table border=\"1\" class=\"dataframe\">\n",
       "  <thead>\n",
       "    <tr style=\"text-align: right;\">\n",
       "      <th></th>\n",
       "      <th>gene_name</th>\n",
       "      <th>Coordinates</th>\n",
       "    </tr>\n",
       "  </thead>\n",
       "  <tbody>\n",
       "    <tr>\n",
       "      <th>11980</th>\n",
       "      <td>LOC100132062</td>\n",
       "      <td>1:490755-495445</td>\n",
       "    </tr>\n",
       "    <tr>\n",
       "      <th>11986</th>\n",
       "      <td>LOC100132287</td>\n",
       "      <td>1:490755-495445</td>\n",
       "    </tr>\n",
       "  </tbody>\n",
       "</table>\n",
       "</div>"
      ],
      "text/plain": [
       "          gene_name      Coordinates\n",
       "11980  LOC100132062  1:490755-495445\n",
       "11986  LOC100132287  1:490755-495445"
      ]
     },
     "execution_count": 29,
     "metadata": {},
     "output_type": "execute_result"
    }
   ],
   "source": [
    "df[df['Coordinates'].str.match('1:490755-495445')]"
   ]
  },
  {
   "cell_type": "code",
   "execution_count": null,
   "id": "126419f8-85ad-4205-95bf-973f5a8c3f3a",
   "metadata": {},
   "outputs": [],
   "source": []
  }
 ],
 "metadata": {
  "kernelspec": {
   "display_name": "Python 3",
   "language": "python",
   "name": "python3"
  },
  "language_info": {
   "codemirror_mode": {
    "name": "ipython",
    "version": 3
   },
   "file_extension": ".py",
   "mimetype": "text/x-python",
   "name": "python",
   "nbconvert_exporter": "python",
   "pygments_lexer": "ipython3",
   "version": "3.8.8"
  }
 },
 "nbformat": 4,
 "nbformat_minor": 5
}
